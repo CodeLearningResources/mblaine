{
 "cells": [
  {
   "cell_type": "markdown",
   "metadata": {},
   "source": [
    "# Using Python Dictionaries"
   ]
  },
  {
   "cell_type": "markdown",
   "metadata": {},
   "source": [
    "## Sample program uisng Dictionary key, value pairs"
   ]
  },
  {
   "cell_type": "code",
   "execution_count": 22,
   "metadata": {},
   "outputs": [],
   "source": [
    "# The program will have key-value pairs such as: {10: ten}, {20: twenty}\n",
    "# Remember dictionary uses {} breackets while list uses [] square brackets"
   ]
  },
  {
   "cell_type": "code",
   "execution_count": 23,
   "metadata": {},
   "outputs": [
    {
     "name": "stdout",
     "output_type": "stream",
     "text": [
      "not found\n"
     ]
    }
   ],
   "source": [
    "# Start with a small dictionary\n",
    "numbers = {'1': 'one', '2': 'two'}\n",
    "numbers.keys()\n",
    "asking = True\n",
    "if '6' in numbers.keys():\n",
    "    print('found')\n",
    "else:\n",
    "    print('not found')"
   ]
  },
  {
   "cell_type": "code",
   "execution_count": 24,
   "metadata": {},
   "outputs": [
    {
     "name": "stdout",
     "output_type": "stream",
     "text": [
      "Enter a number or press 'q' to quit: 4\n",
      "You entered: 4\n",
      "Not found, adding key 4. Please provide value.\n",
      "four\n",
      "Enter a number or press 'q' to quit: 7\n",
      "You entered: 7\n",
      "Not found, adding key 7. Please provide value.\n",
      "seven\n",
      "Enter a number or press 'q' to quit: q\n",
      "Game over!\n",
      "{'1': 'one', '2': 'two', '4': 'four', '7': 'seven'}\n",
      "1 one\n",
      "2 two\n",
      "4 four\n",
      "7 seven\n"
     ]
    }
   ],
   "source": [
    "while asking:\n",
    "    answer = input(\"Enter a number or press 'q' to quit: \")\n",
    "    if answer.lower() == 'q':\n",
    "        asking = False\n",
    "        print(\"Game over!\")\n",
    "        break\n",
    "    else:\n",
    "        print(\"You entered: \" + answer)\n",
    "        if answer in numbers.keys():\n",
    "            print(\"Found {0}. Its value is {1} \".format(answer, numbers[answer]))\n",
    "        else:\n",
    "            print(\"Not found, adding key {0}. Please provide value.\".format(answer))\n",
    "            val = input(\"\")\n",
    "            if val.lower() == 'q':\n",
    "                asking = False\n",
    "                print(\"Game over!\")\n",
    "                break\n",
    "            else:\n",
    "                numbers[answer] = val\n",
    "if not asking:\n",
    "    print(numbers)\n",
    "    myNumbers = list(numbers.keys())\n",
    "    myNumbers.sort()\n",
    "    for key in myNumbers:\n",
    "        print(key, numbers[key])"
   ]
  },
  {
   "cell_type": "code",
   "execution_count": null,
   "metadata": {},
   "outputs": [],
   "source": []
  }
 ],
 "metadata": {
  "kernelspec": {
   "display_name": "Python 3",
   "language": "python",
   "name": "python3"
  },
  "language_info": {
   "codemirror_mode": {
    "name": "ipython",
    "version": 3
   },
   "file_extension": ".py",
   "mimetype": "text/x-python",
   "name": "python",
   "nbconvert_exporter": "python",
   "pygments_lexer": "ipython3",
   "version": "3.7.3"
  }
 },
 "nbformat": 4,
 "nbformat_minor": 2
}
