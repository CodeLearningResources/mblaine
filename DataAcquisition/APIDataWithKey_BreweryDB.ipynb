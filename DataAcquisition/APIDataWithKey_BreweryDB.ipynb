{
 "cells": [
  {
   "cell_type": "markdown",
   "metadata": {},
   "source": [
    "# Using the Brewery DB API from the \"Get Data from API - with key\" lesson, extract the following data for the features of a brewery.\n",
    "\n",
    "ID\n",
    "Name\n",
    "Year of Establishment\n",
    "Status\n",
    "Is it in business?\n",
    "Is it mass owned?\n",
    "Is it organic?\n",
    "Website\n",
    "Description\n",
    "*HINT*: The URL to access the brewery side of the API is https://sandbox-api.brewerydb.com/v2/breweries/?key="
   ]
  },
  {
   "cell_type": "code",
   "execution_count": null,
   "metadata": {},
   "outputs": [],
   "source": []
  }
 ],
 "metadata": {
  "kernelspec": {
   "display_name": "Python 3",
   "language": "python",
   "name": "python3"
  },
  "language_info": {
   "codemirror_mode": {
    "name": "ipython",
    "version": 3
   },
   "file_extension": ".py",
   "mimetype": "text/x-python",
   "name": "python",
   "nbconvert_exporter": "python",
   "pygments_lexer": "ipython3",
   "version": "3.7.3"
  }
 },
 "nbformat": 4,
 "nbformat_minor": 2
}
