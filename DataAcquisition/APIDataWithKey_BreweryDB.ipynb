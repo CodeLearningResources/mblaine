{
 "cells": [
  {
   "cell_type": "markdown",
   "metadata": {},
   "source": [
    "# Using the Brewery DB API from the \"Get Data from API - with key\" lesson, extract the following data for the features of a brewery.\n",
    "\n",
    "ID\n",
    "Name\n",
    "Year of Establishment\n",
    "Status\n",
    "Is it in business?\n",
    "Is it mass owned?\n",
    "Is it organic?\n",
    "Website\n",
    "Description\n",
    "*HINT*: The URL to access the brewery side of the API is https://sandbox-api.brewerydb.com/v2/breweries/?key="
   ]
  },
  {
   "cell_type": "code",
   "execution_count": 49,
   "metadata": {},
   "outputs": [],
   "source": [
    "import requests\n",
    "import json\n",
    "import pandas as pd"
   ]
  },
  {
   "cell_type": "code",
   "execution_count": 50,
   "metadata": {},
   "outputs": [],
   "source": [
    "ID = []         #id\n",
    "Name = []       #name\n",
    "Estb = []       #established\n",
    "Status = []     #status\n",
    "InBus = []      #isInBusiness\n",
    "MassOwned = []  #isMassOwned\n",
    "IsOrganic = []  #isOrganic\n",
    "WebSite = []    #website"
   ]
  },
  {
   "cell_type": "code",
   "execution_count": 51,
   "metadata": {},
   "outputs": [],
   "source": [
    "#create a text file that contains your API key\n",
    "#you DO NOT want others to see your API key\n",
    "#this method is not the most secure but will work for this exercise\n",
    "\n",
    "#this will read the file and store your API key as a variable\n",
    "with open('datasets/brewDB_key.txt', 'r') as file:\n",
    "    for line in file:\n",
    "        api_key = line"
   ]
  },
  {
   "cell_type": "code",
   "execution_count": 52,
   "metadata": {},
   "outputs": [],
   "source": [
    "#sandbox database to practice getting data from their API\n",
    "url = r\"https://sandbox-api.brewerydb.com/v2/breweries/?key=\""
   ]
  },
  {
   "cell_type": "code",
   "execution_count": 53,
   "metadata": {},
   "outputs": [],
   "source": [
    "#in the request to the website, give it the url and add the API key at the end\n",
    "response = requests.get(url+api_key)"
   ]
  },
  {
   "cell_type": "code",
   "execution_count": 54,
   "metadata": {},
   "outputs": [
    {
     "data": {
      "text/plain": [
       "<Response [200]>"
      ]
     },
     "execution_count": 54,
     "metadata": {},
     "output_type": "execute_result"
    }
   ],
   "source": [
    "#status code is 200, so this is good\n",
    "response"
   ]
  },
  {
   "cell_type": "code",
   "execution_count": 55,
   "metadata": {},
   "outputs": [],
   "source": [
    "brewerdict = response.json()"
   ]
  },
  {
   "cell_type": "code",
   "execution_count": 56,
   "metadata": {},
   "outputs": [
    {
     "data": {
      "text/plain": [
       "dict"
      ]
     },
     "execution_count": 56,
     "metadata": {},
     "output_type": "execute_result"
    }
   ],
   "source": [
    "type(brewerdict)"
   ]
  },
  {
   "cell_type": "code",
   "execution_count": null,
   "metadata": {},
   "outputs": [],
   "source": [
    "brewerdict.keys()\n",
    "brewerdict"
   ]
  },
  {
   "cell_type": "code",
   "execution_count": 58,
   "metadata": {},
   "outputs": [
    {
     "data": {
      "text/plain": [
       "dict_keys"
      ]
     },
     "execution_count": 58,
     "metadata": {},
     "output_type": "execute_result"
    }
   ],
   "source": [
    "type(brewerdict.keys())"
   ]
  },
  {
   "cell_type": "code",
   "execution_count": null,
   "metadata": {},
   "outputs": [],
   "source": [
    "# The data key has all the info we need\n",
    "all_brewerdict = brewerdict['data']\n",
    "all_brewerdict"
   ]
  },
  {
   "cell_type": "code",
   "execution_count": 88,
   "metadata": {},
   "outputs": [
    {
     "name": "stdout",
     "output_type": "stream",
     "text": [
      "19\n"
     ]
    },
    {
     "data": {
      "text/plain": [
       "dict"
      ]
     },
     "execution_count": 88,
     "metadata": {},
     "output_type": "execute_result"
    }
   ],
   "source": [
    "print(len(all_brewerdict))\n",
    "type(all_brewerdict[0])"
   ]
  },
  {
   "cell_type": "code",
   "execution_count": 66,
   "metadata": {},
   "outputs": [
    {
     "data": {
      "text/plain": [
       "{'id': 'BznahA',\n",
       " 'name': 'Anheuser-Busch InBev',\n",
       " 'nameShortDisplay': 'Anheuser-Busch InBev',\n",
       " 'description': \"Anheuser-Busch operates 12 breweries in the United States, 14 in China and one in the United Kingdom. Anheuser-Busch's operations and resources are focused on adding to life's enjoyment not only through the responsible consumption of beer by adults, but through theme park entertainment and packaging.  In the United States, the company holds a 48.5 percent share of U.S. beer sales. Worldwide, Anheuser-Busch's beer sales volume was 128.4 million barrels in 2007.  The St. Louis-based company's subsidiaries include one of the largest U.S. manufacturers of aluminum beverage containers and one of the world's largest recyclers of aluminum beverage cans. Anheuser-Busch also has interests in malt production, rice milling, real estate development, turf farming, metalized and paper label printing, bottle production and transportation services.\",\n",
       " 'website': 'http://www.anheuser-busch.com/',\n",
       " 'established': '1852',\n",
       " 'isOrganic': 'N',\n",
       " 'images': {'icon': 'https://brewerydb-images.s3.amazonaws.com/brewery/BznahA/upload_0FkKKl-icon.png',\n",
       "  'medium': 'https://brewerydb-images.s3.amazonaws.com/brewery/BznahA/upload_0FkKKl-medium.png',\n",
       "  'large': 'https://brewerydb-images.s3.amazonaws.com/brewery/BznahA/upload_0FkKKl-large.png',\n",
       "  'squareMedium': 'https://brewerydb-images.s3.amazonaws.com/brewery/BznahA/upload_0FkKKl-squareMedium.png',\n",
       "  'squareLarge': 'https://brewerydb-images.s3.amazonaws.com/brewery/BznahA/upload_0FkKKl-squareLarge.png'},\n",
       " 'status': 'verified',\n",
       " 'statusDisplay': 'Verified',\n",
       " 'createDate': '2012-01-03 02:41:44',\n",
       " 'updateDate': '2018-11-02 02:15:01',\n",
       " 'isMassOwned': 'Y',\n",
       " 'isInBusiness': 'Y',\n",
       " 'isVerified': 'N'}"
      ]
     },
     "execution_count": 66,
     "metadata": {},
     "output_type": "execute_result"
    }
   ],
   "source": [
    "datadict = all_brewerdict[0]\n",
    "datadict"
   ]
  },
  {
   "cell_type": "code",
   "execution_count": 67,
   "metadata": {},
   "outputs": [
    {
     "data": {
      "text/plain": [
       "dict_keys(['id', 'name', 'nameShortDisplay', 'description', 'website', 'established', 'isOrganic', 'images', 'status', 'statusDisplay', 'createDate', 'updateDate', 'isMassOwned', 'isInBusiness', 'isVerified'])"
      ]
     },
     "execution_count": 67,
     "metadata": {},
     "output_type": "execute_result"
    }
   ],
   "source": [
    "datadict.keys()"
   ]
  },
  {
   "cell_type": "code",
   "execution_count": null,
   "metadata": {},
   "outputs": [],
   "source": [
    "datadict.values()"
   ]
  },
  {
   "cell_type": "code",
   "execution_count": 95,
   "metadata": {},
   "outputs": [],
   "source": [
    "for brewer in all_brewerdict:\n",
    "#    print(brewer)\n",
    "    ID.append(brewer['id'])\n",
    "    Name.append(brewer['name'])\n",
    "#    Estb.append(brewer['established'])\n",
    "    Status.append(brewer['status'])\n",
    "    InBus.append(brewer['isInBusiness'])\n",
    "    MassOwned.append(brewer['isMassOwned'])\n",
    "    IsOrganic.append(brewer['isOrganic'])\n",
    "#    WebSite.append(brewer['website'])"
   ]
  },
  {
   "cell_type": "code",
   "execution_count": 96,
   "metadata": {},
   "outputs": [
    {
     "data": {
      "text/plain": [
       "dict"
      ]
     },
     "execution_count": 96,
     "metadata": {},
     "output_type": "execute_result"
    }
   ],
   "source": [
    "type(brewer)"
   ]
  },
  {
   "cell_type": "code",
   "execution_count": 97,
   "metadata": {},
   "outputs": [
    {
     "data": {
      "text/html": [
       "<div>\n",
       "<style scoped>\n",
       "    .dataframe tbody tr th:only-of-type {\n",
       "        vertical-align: middle;\n",
       "    }\n",
       "\n",
       "    .dataframe tbody tr th {\n",
       "        vertical-align: top;\n",
       "    }\n",
       "\n",
       "    .dataframe thead th {\n",
       "        text-align: right;\n",
       "    }\n",
       "</style>\n",
       "<table border=\"1\" class=\"dataframe\">\n",
       "  <thead>\n",
       "    <tr style=\"text-align: right;\">\n",
       "      <th></th>\n",
       "      <th>createDate</th>\n",
       "      <th>description</th>\n",
       "      <th>established</th>\n",
       "      <th>id</th>\n",
       "      <th>images</th>\n",
       "      <th>isInBusiness</th>\n",
       "      <th>isMassOwned</th>\n",
       "      <th>isOrganic</th>\n",
       "      <th>isVerified</th>\n",
       "      <th>mailingListUrl</th>\n",
       "      <th>name</th>\n",
       "      <th>nameShortDisplay</th>\n",
       "      <th>status</th>\n",
       "      <th>statusDisplay</th>\n",
       "      <th>updateDate</th>\n",
       "      <th>website</th>\n",
       "    </tr>\n",
       "  </thead>\n",
       "  <tbody>\n",
       "    <tr>\n",
       "      <th>0</th>\n",
       "      <td>2012-01-03 02:41:44</td>\n",
       "      <td>Anheuser-Busch operates 12 breweries in the Un...</td>\n",
       "      <td>1852</td>\n",
       "      <td>BznahA</td>\n",
       "      <td>{'icon': 'https://brewerydb-images.s3.amazonaw...</td>\n",
       "      <td>Y</td>\n",
       "      <td>Y</td>\n",
       "      <td>N</td>\n",
       "      <td>N</td>\n",
       "      <td>NaN</td>\n",
       "      <td>Anheuser-Busch InBev</td>\n",
       "      <td>Anheuser-Busch InBev</td>\n",
       "      <td>verified</td>\n",
       "      <td>Verified</td>\n",
       "      <td>2018-11-02 02:15:01</td>\n",
       "      <td>http://www.anheuser-busch.com/</td>\n",
       "    </tr>\n",
       "    <tr>\n",
       "      <th>1</th>\n",
       "      <td>2018-12-09 18:05:53</td>\n",
       "      <td>NaN</td>\n",
       "      <td>NaN</td>\n",
       "      <td>rd8LRZ</td>\n",
       "      <td>NaN</td>\n",
       "      <td>Y</td>\n",
       "      <td>N</td>\n",
       "      <td>N</td>\n",
       "      <td>N</td>\n",
       "      <td>NaN</td>\n",
       "      <td>Boston Beer Company (Samuel Adams)</td>\n",
       "      <td>Boston Beer Company (Samuel Adams)</td>\n",
       "      <td>new_unverified</td>\n",
       "      <td>New, Unverified</td>\n",
       "      <td>2018-12-09 18:05:53</td>\n",
       "      <td>NaN</td>\n",
       "    </tr>\n",
       "    <tr>\n",
       "      <th>2</th>\n",
       "      <td>2012-01-03 02:41:48</td>\n",
       "      <td>Breckenridge Brewery was founded in 1990 in Br...</td>\n",
       "      <td>1990</td>\n",
       "      <td>IImUD9</td>\n",
       "      <td>{'icon': 'https://brewerydb-images.s3.amazonaw...</td>\n",
       "      <td>Y</td>\n",
       "      <td>Y</td>\n",
       "      <td>N</td>\n",
       "      <td>N</td>\n",
       "      <td>NaN</td>\n",
       "      <td>Breckenridge Brewery</td>\n",
       "      <td>Breckenridge</td>\n",
       "      <td>verified</td>\n",
       "      <td>Verified</td>\n",
       "      <td>2018-11-02 02:15:01</td>\n",
       "      <td>http://www.breckbrew.com/</td>\n",
       "    </tr>\n",
       "    <tr>\n",
       "      <th>3</th>\n",
       "      <td>2012-01-03 02:41:49</td>\n",
       "      <td>Brewing since 1997.  Officially transformed in...</td>\n",
       "      <td>2008</td>\n",
       "      <td>uM2jeT</td>\n",
       "      <td>NaN</td>\n",
       "      <td>Y</td>\n",
       "      <td>N</td>\n",
       "      <td>N</td>\n",
       "      <td>N</td>\n",
       "      <td>NaN</td>\n",
       "      <td>Brouwerij De Leite</td>\n",
       "      <td>Brouwerij De Leite</td>\n",
       "      <td>verified</td>\n",
       "      <td>Verified</td>\n",
       "      <td>2018-11-02 02:15:01</td>\n",
       "      <td>http://www.deleite.be/</td>\n",
       "    </tr>\n",
       "    <tr>\n",
       "      <th>4</th>\n",
       "      <td>2012-01-03 02:41:52</td>\n",
       "      <td>Founded in 1985, Dock Street Brewing Co. was t...</td>\n",
       "      <td>1985</td>\n",
       "      <td>p3YrOa</td>\n",
       "      <td>{'icon': 'https://brewerydb-images.s3.amazonaw...</td>\n",
       "      <td>Y</td>\n",
       "      <td>N</td>\n",
       "      <td>N</td>\n",
       "      <td>N</td>\n",
       "      <td>http://www.dockstreetbeer.com/Contact.html</td>\n",
       "      <td>Dock Street Brewery</td>\n",
       "      <td>Dock Street</td>\n",
       "      <td>verified</td>\n",
       "      <td>Verified</td>\n",
       "      <td>2018-11-02 02:15:01</td>\n",
       "      <td>http://www.dockstreetbeer.com</td>\n",
       "    </tr>\n",
       "  </tbody>\n",
       "</table>\n",
       "</div>"
      ],
      "text/plain": [
       "            createDate                                        description  \\\n",
       "0  2012-01-03 02:41:44  Anheuser-Busch operates 12 breweries in the Un...   \n",
       "1  2018-12-09 18:05:53                                                NaN   \n",
       "2  2012-01-03 02:41:48  Breckenridge Brewery was founded in 1990 in Br...   \n",
       "3  2012-01-03 02:41:49  Brewing since 1997.  Officially transformed in...   \n",
       "4  2012-01-03 02:41:52  Founded in 1985, Dock Street Brewing Co. was t...   \n",
       "\n",
       "  established      id                                             images  \\\n",
       "0        1852  BznahA  {'icon': 'https://brewerydb-images.s3.amazonaw...   \n",
       "1         NaN  rd8LRZ                                                NaN   \n",
       "2        1990  IImUD9  {'icon': 'https://brewerydb-images.s3.amazonaw...   \n",
       "3        2008  uM2jeT                                                NaN   \n",
       "4        1985  p3YrOa  {'icon': 'https://brewerydb-images.s3.amazonaw...   \n",
       "\n",
       "  isInBusiness isMassOwned isOrganic isVerified  \\\n",
       "0            Y           Y         N          N   \n",
       "1            Y           N         N          N   \n",
       "2            Y           Y         N          N   \n",
       "3            Y           N         N          N   \n",
       "4            Y           N         N          N   \n",
       "\n",
       "                               mailingListUrl  \\\n",
       "0                                         NaN   \n",
       "1                                         NaN   \n",
       "2                                         NaN   \n",
       "3                                         NaN   \n",
       "4  http://www.dockstreetbeer.com/Contact.html   \n",
       "\n",
       "                                 name                    nameShortDisplay  \\\n",
       "0                Anheuser-Busch InBev                Anheuser-Busch InBev   \n",
       "1  Boston Beer Company (Samuel Adams)  Boston Beer Company (Samuel Adams)   \n",
       "2                Breckenridge Brewery                        Breckenridge   \n",
       "3                  Brouwerij De Leite                  Brouwerij De Leite   \n",
       "4                 Dock Street Brewery                         Dock Street   \n",
       "\n",
       "           status    statusDisplay           updateDate  \\\n",
       "0        verified         Verified  2018-11-02 02:15:01   \n",
       "1  new_unverified  New, Unverified  2018-12-09 18:05:53   \n",
       "2        verified         Verified  2018-11-02 02:15:01   \n",
       "3        verified         Verified  2018-11-02 02:15:01   \n",
       "4        verified         Verified  2018-11-02 02:15:01   \n",
       "\n",
       "                          website  \n",
       "0  http://www.anheuser-busch.com/  \n",
       "1                             NaN  \n",
       "2       http://www.breckbrew.com/  \n",
       "3          http://www.deleite.be/  \n",
       "4   http://www.dockstreetbeer.com  "
      ]
     },
     "execution_count": 97,
     "metadata": {},
     "output_type": "execute_result"
    }
   ],
   "source": [
    "df = pd.DataFrame(data = all_brewerdict)\n",
    "df.head()"
   ]
  },
  {
   "cell_type": "code",
   "execution_count": null,
   "metadata": {},
   "outputs": [],
   "source": []
  },
  {
   "cell_type": "code",
   "execution_count": 106,
   "metadata": {},
   "outputs": [
    {
     "name": "stdout",
     "output_type": "stream",
     "text": [
      "19\n",
      "ID: 98\n",
      "Name: 96\n",
      "Estb: 16\n"
     ]
    }
   ],
   "source": [
    "print(len(all_brewerdict))\n",
    "print(\"ID: \"+ str(len(ID)))\n",
    "print(\"Name: \" + str(len(Name)))\n",
    "print(\"Estb: \" + str(len(Estb)))"
   ]
  }
 ],
 "metadata": {
  "kernelspec": {
   "display_name": "Python 3",
   "language": "python",
   "name": "python3"
  },
  "language_info": {
   "codemirror_mode": {
    "name": "ipython",
    "version": 3
   },
   "file_extension": ".py",
   "mimetype": "text/x-python",
   "name": "python",
   "nbconvert_exporter": "python",
   "pygments_lexer": "ipython3",
   "version": "3.7.3"
  }
 },
 "nbformat": 4,
 "nbformat_minor": 2
}
