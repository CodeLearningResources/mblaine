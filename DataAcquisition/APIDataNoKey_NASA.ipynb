{
 "cells": [
  {
   "cell_type": "markdown",
   "metadata": {},
   "source": [
    "# Use the URL from NASA's Open Data Portal (https://data.nasa.gov/Space-Science/Meteorite-Landings/gh4g-9sfh) API to request data and bring it in as JSON. "
   ]
  },
  {
   "cell_type": "markdown",
   "metadata": {},
   "source": [
    "## Then extract the following features from that data to create a dataframe(columns should be in the order listed below):\n",
    "ID\n",
    "Year\n",
    "Fall\n",
    "Name\n",
    "NameType\n",
    "Mass\n",
    "Latitude\n",
    "Longitude"
   ]
  },
  {
   "cell_type": "code",
   "execution_count": 193,
   "metadata": {},
   "outputs": [],
   "source": [
    "import requests  #similar to urllib, this library allows a computer to ping a website\n",
    "import json      #library to handle JSON formatted data\n",
    "import pandas as pd\n",
    "import numpy as np\n",
    "import re #library for regular expressions"
   ]
  },
  {
   "cell_type": "code",
   "execution_count": 194,
   "metadata": {},
   "outputs": [],
   "source": [
    "#filepath = \"datasets/Meteorite_Landings.json\"\n",
    "#filepath = \"datasets/test_json.json\"\n",
    "#sandbox database to practice getting data from their API\n",
    "#url = r\"https://data.nasa.gov/Space-Science/Meteorite-Landings/gh4g-9sfh\"\n",
    "url = r\"https://data.nasa.gov/resource/gh4g-9sfh.json\""
   ]
  },
  {
   "cell_type": "code",
   "execution_count": 195,
   "metadata": {},
   "outputs": [],
   "source": [
    "# Defines empty lists for each value we need\n",
    "ID = []     #id\n",
    "Year = []   #year\n",
    "Fall = []   #fall\n",
    "Name = []   #name\n",
    "Type = []   #nametype\n",
    "Mass = []   #mass\n",
    "Lat = []    #reclat\n",
    "Lon = []    #reclong"
   ]
  },
  {
   "cell_type": "code",
   "execution_count": 196,
   "metadata": {},
   "outputs": [
    {
     "data": {
      "text/plain": [
       "<Response [200]>"
      ]
     },
     "execution_count": 196,
     "metadata": {},
     "output_type": "execute_result"
    }
   ],
   "source": [
    "# In the request to the website, give it the url and add the API key at the end\n",
    "response = requests.get(url)\n",
    "response"
   ]
  },
  {
   "cell_type": "code",
   "execution_count": 197,
   "metadata": {},
   "outputs": [],
   "source": [
    "nasadata = response.json()\n",
    "#nasadata"
   ]
  },
  {
   "cell_type": "code",
   "execution_count": 198,
   "metadata": {},
   "outputs": [
    {
     "data": {
      "text/plain": [
       "list"
      ]
     },
     "execution_count": 198,
     "metadata": {},
     "output_type": "execute_result"
    }
   ],
   "source": [
    "# Verify that this is a list type\n",
    "type(nasadata)"
   ]
  },
  {
   "cell_type": "code",
   "execution_count": 199,
   "metadata": {},
   "outputs": [
    {
     "data": {
      "text/plain": [
       "1000"
      ]
     },
     "execution_count": 199,
     "metadata": {},
     "output_type": "execute_result"
    }
   ],
   "source": [
    "# Verify there are 1000 records\n",
    "len(nasadata)"
   ]
  },
  {
   "cell_type": "code",
   "execution_count": 200,
   "metadata": {},
   "outputs": [
    {
     "data": {
      "text/plain": [
       "{'name': 'Aachen',\n",
       " 'id': '1',\n",
       " 'nametype': 'Valid',\n",
       " 'recclass': 'L5',\n",
       " 'mass': '21',\n",
       " 'fall': 'Fell',\n",
       " 'year': '1880-01-01T00:00:00.000',\n",
       " 'reclat': '50.775000',\n",
       " 'reclong': '6.083330',\n",
       " 'geolocation': {'latitude': '50.775', 'longitude': '6.08333'}}"
      ]
     },
     "execution_count": 200,
     "metadata": {},
     "output_type": "execute_result"
    }
   ],
   "source": [
    "# For one element, show the key names (columns)\n",
    "nasadata[0]"
   ]
  },
  {
   "cell_type": "code",
   "execution_count": 201,
   "metadata": {},
   "outputs": [
    {
     "data": {
      "text/plain": [
       "dict"
      ]
     },
     "execution_count": 201,
     "metadata": {},
     "output_type": "execute_result"
    }
   ],
   "source": [
    "# Verify inside the list is a list of dictionaries\n",
    "type(nasadata[0])"
   ]
  },
  {
   "cell_type": "code",
   "execution_count": 202,
   "metadata": {},
   "outputs": [
    {
     "name": "stdout",
     "output_type": "stream",
     "text": [
      "dict_values(['Aachen', '1', 'Valid', 'L5', '21', 'Fell', '1880-01-01T00:00:00.000', '50.775000', '6.083330', {'latitude': '50.775', 'longitude': '6.08333'}])\n",
      "dict_keys(['name', 'id', 'nametype', 'recclass', 'mass', 'fall', 'year', 'reclat', 'reclong', 'geolocation'])\n"
     ]
    }
   ],
   "source": [
    "# Number of columns in 1 dictionary inside nasadata list of dictionaries\n",
    "len(nasadata[0].keys())\n",
    "print(nasadata[0].values())\n",
    "print(nasadata[0].keys())\n",
    "#nasadata"
   ]
  },
  {
   "cell_type": "code",
   "execution_count": null,
   "metadata": {},
   "outputs": [],
   "source": [
    "# Not needed - modifies list to numpy ndarray\n",
    "d = {}\n",
    "name_list = [d['name'] for d in nasadata if 'name' in d]\n",
    "print(len(name_list))\n",
    "print(name_list)\n",
    "idx = int(0)\n",
    "y = {}\n",
    "x = {}\n",
    "while idx < len(name_list):  \n",
    "#    x = {'name' : name_list[idx]}\n",
    "    x['name'] = name_list[idx]\n",
    "    d = dict(list(x.items()))\n",
    "    idx = idx + 1\n",
    "\n",
    "d"
   ]
  },
  {
   "cell_type": "code",
   "execution_count": 203,
   "metadata": {},
   "outputs": [],
   "source": [
    "# Make dataframe from the default - list of dictionaries\n",
    "df = pd.DataFrame(nasadata)\n",
    "#df.head()"
   ]
  },
  {
   "cell_type": "code",
   "execution_count": 205,
   "metadata": {},
   "outputs": [
    {
     "data": {
      "text/plain": [
       "Index([':@computed_region_cbhk_fwbd', ':@computed_region_nnqa_25f4', 'fall',\n",
       "       'geolocation', 'id', 'mass', 'name', 'nametype', 'recclass', 'reclat',\n",
       "       'reclong', 'year'],\n",
       "      dtype='object')"
      ]
     },
     "execution_count": 205,
     "metadata": {},
     "output_type": "execute_result"
    }
   ],
   "source": [
    "# Shows dataFrame columns\n",
    "df.columns"
   ]
  },
  {
   "cell_type": "code",
   "execution_count": 206,
   "metadata": {},
   "outputs": [
    {
     "data": {
      "text/html": [
       "<div>\n",
       "<style scoped>\n",
       "    .dataframe tbody tr th:only-of-type {\n",
       "        vertical-align: middle;\n",
       "    }\n",
       "\n",
       "    .dataframe tbody tr th {\n",
       "        vertical-align: top;\n",
       "    }\n",
       "\n",
       "    .dataframe thead th {\n",
       "        text-align: right;\n",
       "    }\n",
       "</style>\n",
       "<table border=\"1\" class=\"dataframe\">\n",
       "  <thead>\n",
       "    <tr style=\"text-align: right;\">\n",
       "      <th></th>\n",
       "      <th>fall</th>\n",
       "      <th>geolocation</th>\n",
       "      <th>id</th>\n",
       "      <th>mass</th>\n",
       "      <th>name</th>\n",
       "      <th>nametype</th>\n",
       "      <th>recclass</th>\n",
       "      <th>reclat</th>\n",
       "      <th>reclong</th>\n",
       "      <th>year</th>\n",
       "    </tr>\n",
       "  </thead>\n",
       "  <tbody>\n",
       "    <tr>\n",
       "      <th>0</th>\n",
       "      <td>Fell</td>\n",
       "      <td>{'latitude': '50.775', 'longitude': '6.08333'}</td>\n",
       "      <td>1</td>\n",
       "      <td>21</td>\n",
       "      <td>Aachen</td>\n",
       "      <td>Valid</td>\n",
       "      <td>L5</td>\n",
       "      <td>50.775000</td>\n",
       "      <td>6.083330</td>\n",
       "      <td>1880-01-01T00:00:00.000</td>\n",
       "    </tr>\n",
       "    <tr>\n",
       "      <th>1</th>\n",
       "      <td>Fell</td>\n",
       "      <td>{'latitude': '56.18333', 'longitude': '10.23333'}</td>\n",
       "      <td>2</td>\n",
       "      <td>720</td>\n",
       "      <td>Aarhus</td>\n",
       "      <td>Valid</td>\n",
       "      <td>H6</td>\n",
       "      <td>56.183330</td>\n",
       "      <td>10.233330</td>\n",
       "      <td>1951-01-01T00:00:00.000</td>\n",
       "    </tr>\n",
       "    <tr>\n",
       "      <th>2</th>\n",
       "      <td>Fell</td>\n",
       "      <td>{'latitude': '54.21667', 'longitude': '-113.0'}</td>\n",
       "      <td>6</td>\n",
       "      <td>107000</td>\n",
       "      <td>Abee</td>\n",
       "      <td>Valid</td>\n",
       "      <td>EH4</td>\n",
       "      <td>54.216670</td>\n",
       "      <td>-113.000000</td>\n",
       "      <td>1952-01-01T00:00:00.000</td>\n",
       "    </tr>\n",
       "    <tr>\n",
       "      <th>3</th>\n",
       "      <td>Fell</td>\n",
       "      <td>{'latitude': '16.88333', 'longitude': '-99.9'}</td>\n",
       "      <td>10</td>\n",
       "      <td>1914</td>\n",
       "      <td>Acapulco</td>\n",
       "      <td>Valid</td>\n",
       "      <td>Acapulcoite</td>\n",
       "      <td>16.883330</td>\n",
       "      <td>-99.900000</td>\n",
       "      <td>1976-01-01T00:00:00.000</td>\n",
       "    </tr>\n",
       "    <tr>\n",
       "      <th>4</th>\n",
       "      <td>Fell</td>\n",
       "      <td>{'latitude': '-33.16667', 'longitude': '-64.95'}</td>\n",
       "      <td>370</td>\n",
       "      <td>780</td>\n",
       "      <td>Achiras</td>\n",
       "      <td>Valid</td>\n",
       "      <td>L6</td>\n",
       "      <td>-33.166670</td>\n",
       "      <td>-64.950000</td>\n",
       "      <td>1902-01-01T00:00:00.000</td>\n",
       "    </tr>\n",
       "  </tbody>\n",
       "</table>\n",
       "</div>"
      ],
      "text/plain": [
       "   fall                                        geolocation   id    mass  \\\n",
       "0  Fell     {'latitude': '50.775', 'longitude': '6.08333'}    1      21   \n",
       "1  Fell  {'latitude': '56.18333', 'longitude': '10.23333'}    2     720   \n",
       "2  Fell    {'latitude': '54.21667', 'longitude': '-113.0'}    6  107000   \n",
       "3  Fell     {'latitude': '16.88333', 'longitude': '-99.9'}   10    1914   \n",
       "4  Fell   {'latitude': '-33.16667', 'longitude': '-64.95'}  370     780   \n",
       "\n",
       "       name nametype     recclass      reclat      reclong  \\\n",
       "0    Aachen    Valid           L5   50.775000     6.083330   \n",
       "1    Aarhus    Valid           H6   56.183330    10.233330   \n",
       "2      Abee    Valid          EH4   54.216670  -113.000000   \n",
       "3  Acapulco    Valid  Acapulcoite   16.883330   -99.900000   \n",
       "4   Achiras    Valid           L6  -33.166670   -64.950000   \n",
       "\n",
       "                      year  \n",
       "0  1880-01-01T00:00:00.000  \n",
       "1  1951-01-01T00:00:00.000  \n",
       "2  1952-01-01T00:00:00.000  \n",
       "3  1976-01-01T00:00:00.000  \n",
       "4  1902-01-01T00:00:00.000  "
      ]
     },
     "execution_count": 206,
     "metadata": {},
     "output_type": "execute_result"
    }
   ],
   "source": [
    "# Drop columns we don't want\n",
    "df.drop(':@computed_region_cbhk_fwbd', axis=1, inplace=True)\n",
    "df.drop(':@computed_region_nnqa_25f4', axis=1, inplace=True)\n",
    "df.head()"
   ]
  },
  {
   "cell_type": "code",
   "execution_count": 207,
   "metadata": {},
   "outputs": [
    {
     "data": {
      "text/plain": [
       "10"
      ]
     },
     "execution_count": 207,
     "metadata": {},
     "output_type": "execute_result"
    }
   ],
   "source": [
    "# Show number of DataFrame keys\n",
    "len(df.keys())"
   ]
  },
  {
   "cell_type": "code",
   "execution_count": 208,
   "metadata": {},
   "outputs": [
    {
     "data": {
      "text/plain": [
       "1000"
      ]
     },
     "execution_count": 208,
     "metadata": {},
     "output_type": "execute_result"
    }
   ],
   "source": [
    "len(df.values)"
   ]
  },
  {
   "cell_type": "code",
   "execution_count": 210,
   "metadata": {},
   "outputs": [
    {
     "data": {
      "text/plain": [
       "fall            0\n",
       "geolocation    12\n",
       "id              0\n",
       "mass           28\n",
       "name            0\n",
       "nametype        0\n",
       "recclass        0\n",
       "reclat         12\n",
       "reclong        12\n",
       "year            1\n",
       "dtype: int64"
      ]
     },
     "execution_count": 210,
     "metadata": {},
     "output_type": "execute_result"
    }
   ],
   "source": [
    "# Detect null values\n",
    "df.isnull().sum()"
   ]
  },
  {
   "cell_type": "code",
   "execution_count": 211,
   "metadata": {},
   "outputs": [
    {
     "data": {
      "text/plain": [
       "fall            0\n",
       "geolocation    12\n",
       "id              0\n",
       "mass           28\n",
       "name            0\n",
       "nametype        0\n",
       "recclass        0\n",
       "reclat         12\n",
       "reclong        12\n",
       "year            1\n",
       "dtype: int64"
      ]
     },
     "execution_count": 211,
     "metadata": {},
     "output_type": "execute_result"
    }
   ],
   "source": [
    "df.isna().sum()"
   ]
  },
  {
   "cell_type": "code",
   "execution_count": 212,
   "metadata": {},
   "outputs": [
    {
     "name": "stdout",
     "output_type": "stream",
     "text": [
      "959\n"
     ]
    },
    {
     "data": {
      "text/plain": [
       "fall           0\n",
       "geolocation    0\n",
       "id             0\n",
       "mass           0\n",
       "name           0\n",
       "nametype       0\n",
       "recclass       0\n",
       "reclat         0\n",
       "reclong        0\n",
       "year           0\n",
       "dtype: int64"
      ]
     },
     "execution_count": 212,
     "metadata": {},
     "output_type": "execute_result"
    }
   ],
   "source": [
    "df.dropna(inplace=True)\n",
    "print(len(df.values))\n",
    "#df.fillna(int(0), inplace=True)\n",
    "df.isna().sum()"
   ]
  },
  {
   "cell_type": "code",
   "execution_count": 213,
   "metadata": {},
   "outputs": [
    {
     "data": {
      "text/plain": [
       "959"
      ]
     },
     "execution_count": 213,
     "metadata": {},
     "output_type": "execute_result"
    }
   ],
   "source": [
    "copy_df = df.copy()\n",
    "dataDict = copy_df.to_dict('records');\n",
    "type(dataDict)\n",
    "len(dataDict)"
   ]
  },
  {
   "cell_type": "code",
   "execution_count": 214,
   "metadata": {},
   "outputs": [
    {
     "data": {
      "text/plain": [
       "2"
      ]
     },
     "execution_count": 214,
     "metadata": {},
     "output_type": "execute_result"
    }
   ],
   "source": [
    "# Loop throw rows of dataDict\n",
    "for rec in dataDict:\n",
    "    ID.append(rec['id'])\n",
    "    Year.append(rec['year'])   \n",
    "    Fall.append(rec['fall'])\n",
    "    Name.append(rec['name'])\n",
    "    Type.append(rec['nametype'])\n",
    "    Mass.append(rec['mass'])\n",
    "    geo_dict = rec['geolocation']\n",
    "    if len(geo_dict) == 2:\n",
    "        Lat.append(geo_dict['latitude'])\n",
    "        Lon.append(geo_dict['longitude'])\n",
    "    \n",
    "len(geo_dict)"
   ]
  },
  {
   "cell_type": "code",
   "execution_count": 215,
   "metadata": {},
   "outputs": [
    {
     "name": "stdout",
     "output_type": "stream",
     "text": [
      "959\n",
      "959\n",
      "959\n",
      "959\n",
      "959\n",
      "959\n",
      "959\n",
      "959\n"
     ]
    }
   ],
   "source": [
    "print(len(ID))\n",
    "print(len(Year))\n",
    "print(len(Fall))\n",
    "print(len(Name))\n",
    "print(len(Type))\n",
    "print(len(Mass))\n",
    "print(len(Lat))\n",
    "print(len(Lon))"
   ]
  },
  {
   "cell_type": "code",
   "execution_count": 216,
   "metadata": {},
   "outputs": [],
   "source": [
    "# Save data\n",
    "df.to_csv('NASA_Data.csv');"
   ]
  }
 ],
 "metadata": {
  "kernelspec": {
   "display_name": "Python 3",
   "language": "python",
   "name": "python3"
  },
  "language_info": {
   "codemirror_mode": {
    "name": "ipython",
    "version": 3
   },
   "file_extension": ".py",
   "mimetype": "text/x-python",
   "name": "python",
   "nbconvert_exporter": "python",
   "pygments_lexer": "ipython3",
   "version": "3.7.3"
  }
 },
 "nbformat": 4,
 "nbformat_minor": 2
}
