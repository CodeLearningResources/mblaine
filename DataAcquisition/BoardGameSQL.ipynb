{
 "cells": [
  {
   "cell_type": "markdown",
   "metadata": {},
   "source": [
    "# SQL Exercise - Board Game"
   ]
  },
  {
   "cell_type": "markdown",
   "metadata": {},
   "source": [
    "## Download the Board Games SQLite database (https://www.kaggle.com/gabrio/board-games-dataset) from Kaggle. Then in Jupyter Notebook, read in the data for each table. Use code to show the number of rows and columns for each table in the database. Upload the notebook with this information to your Github profile and submit the URL."
   ]
  },
  {
   "cell_type": "code",
   "execution_count": 55,
   "metadata": {},
   "outputs": [],
   "source": [
    "# Import libraries\n",
    "import pandas as pd\n",
    "import sqlite3\n",
    "\n",
    "from sqlalchemy import create_engine"
   ]
  },
  {
   "cell_type": "code",
   "execution_count": 56,
   "metadata": {},
   "outputs": [],
   "source": [
    "# https://www.kaggle.com/mrpantherson/board-games-dataset\n",
    "# Download the database file\n",
    "# Connect to sqlite db\n",
    "db_file = r'datasets/database.sqlite'\n",
    "engine = create_engine(r\"sqlite:///{}\".format(db_file))"
   ]
  },
  {
   "cell_type": "code",
   "execution_count": 57,
   "metadata": {},
   "outputs": [
    {
     "data": {
      "text/html": [
       "<div>\n",
       "<style scoped>\n",
       "    .dataframe tbody tr th:only-of-type {\n",
       "        vertical-align: middle;\n",
       "    }\n",
       "\n",
       "    .dataframe tbody tr th {\n",
       "        vertical-align: top;\n",
       "    }\n",
       "\n",
       "    .dataframe thead th {\n",
       "        text-align: right;\n",
       "    }\n",
       "</style>\n",
       "<table border=\"1\" class=\"dataframe\">\n",
       "  <thead>\n",
       "    <tr style=\"text-align: right;\">\n",
       "      <th></th>\n",
       "      <th>name</th>\n",
       "    </tr>\n",
       "  </thead>\n",
       "  <tbody>\n",
       "    <tr>\n",
       "      <th>0</th>\n",
       "      <td>BoardGames</td>\n",
       "    </tr>\n",
       "    <tr>\n",
       "      <th>1</th>\n",
       "      <td>bgg.ldaOut.topics</td>\n",
       "    </tr>\n",
       "    <tr>\n",
       "      <th>2</th>\n",
       "      <td>bgg.ldaOut.top.terms</td>\n",
       "    </tr>\n",
       "    <tr>\n",
       "      <th>3</th>\n",
       "      <td>bgg.ldaOut.top.documents</td>\n",
       "    </tr>\n",
       "    <tr>\n",
       "      <th>4</th>\n",
       "      <td>bgg.topics</td>\n",
       "    </tr>\n",
       "  </tbody>\n",
       "</table>\n",
       "</div>"
      ],
      "text/plain": [
       "                       name\n",
       "0                BoardGames\n",
       "1         bgg.ldaOut.topics\n",
       "2      bgg.ldaOut.top.terms\n",
       "3  bgg.ldaOut.top.documents\n",
       "4                bgg.topics"
      ]
     },
     "execution_count": 57,
     "metadata": {},
     "output_type": "execute_result"
    }
   ],
   "source": [
    "# Find out what tables are in the database\n",
    "sql = \"SELECT name FROM sqlite_master WHERE type = 'table';\"\n",
    "\n",
    "table_names_df = pd.read_sql(sql, engine)\n",
    "table_names_df"
   ]
  },
  {
   "cell_type": "code",
   "execution_count": 58,
   "metadata": {},
   "outputs": [
    {
     "data": {
      "text/plain": [
       "name    5\n",
       "dtype: int64"
      ]
     },
     "execution_count": 58,
     "metadata": {},
     "output_type": "execute_result"
    }
   ],
   "source": [
    "# Number of tables based on DataFrame returned from SQL query\n",
    "table_names_df.count()"
   ]
  },
  {
   "cell_type": "code",
   "execution_count": 59,
   "metadata": {},
   "outputs": [
    {
     "name": "stdout",
     "output_type": "stream",
     "text": [
      "<class 'pandas.core.frame.DataFrame'>\n",
      "RangeIndex: 5 entries, 0 to 4\n",
      "Data columns (total 1 columns):\n",
      "name    5 non-null object\n",
      "dtypes: object(1)\n",
      "memory usage: 120.0+ bytes\n"
     ]
    }
   ],
   "source": [
    "# DataFrame info\n",
    "table_names_df.info()"
   ]
  },
  {
   "cell_type": "code",
   "execution_count": 60,
   "metadata": {},
   "outputs": [
    {
     "data": {
      "text/plain": [
       "1"
      ]
     },
     "execution_count": 60,
     "metadata": {},
     "output_type": "execute_result"
    }
   ],
   "source": [
    "# How many columns are in the DataFrame\n",
    "len(table_names_df.columns)"
   ]
  },
  {
   "cell_type": "code",
   "execution_count": 61,
   "metadata": {},
   "outputs": [
    {
     "name": "stdout",
     "output_type": "stream",
     "text": [
      "[['BoardGames']\n",
      " ['bgg.ldaOut.topics']\n",
      " ['bgg.ldaOut.top.terms']\n",
      " ['bgg.ldaOut.top.documents']\n",
      " ['bgg.topics']]\n"
     ]
    }
   ],
   "source": [
    "# DataFrame values\n",
    "print(table_names_df.values)"
   ]
  },
  {
   "cell_type": "code",
   "execution_count": 62,
   "metadata": {},
   "outputs": [
    {
     "name": "stdout",
     "output_type": "stream",
     "text": [
      "Index(['name'], dtype='object')\n"
     ]
    }
   ],
   "source": [
    "# DataFrame keys\n",
    "print(table_names_df.keys())"
   ]
  },
  {
   "cell_type": "code",
   "execution_count": 63,
   "metadata": {},
   "outputs": [
    {
     "name": "stdout",
     "output_type": "stream",
     "text": [
      "The table BoardGames has 90400 rows and 81 columns.\n",
      "The table bgg.ldaOut.topics has 29229 rows and 2 columns.\n",
      "The table bgg.ldaOut.top.terms has 250 rows and 4 columns.\n",
      "The table bgg.ldaOut.top.documents has 288 rows and 4 columns.\n",
      "The table bgg.topics has 29313 rows and 74 columns.\n"
     ]
    }
   ],
   "source": [
    "# How many tables exist\n",
    "ctrLength = table_names_df.count()\n",
    "ctr = int(0)\n",
    "\n",
    "# Loop through the list of tables to get # rows and columns for each\n",
    "while ctr < int(ctrLength):\n",
    "    tblName = table_names_df.iloc[ctr,0]\n",
    "    sql = \"SELECT * FROM \" + \"'\"+ tblName + \"'\" + \";\" # some table names include period so it needs to be in quotes\n",
    "    bg_data_df = pd.read_sql(sql, engine)\n",
    "    print(\"The table \" + tblName + \" has \" + str(len(bg_data_df)) + \" rows and \" + str(len(bg_data_df.columns)) +\" columns.\")\n",
    "    ctr = ctr + 1"
   ]
  }
 ],
 "metadata": {
  "kernelspec": {
   "display_name": "Python 3",
   "language": "python",
   "name": "python3"
  },
  "language_info": {
   "codemirror_mode": {
    "name": "ipython",
    "version": 3
   },
   "file_extension": ".py",
   "mimetype": "text/x-python",
   "name": "python",
   "nbconvert_exporter": "python",
   "pygments_lexer": "ipython3",
   "version": "3.7.3"
  }
 },
 "nbformat": 4,
 "nbformat_minor": 2
}
