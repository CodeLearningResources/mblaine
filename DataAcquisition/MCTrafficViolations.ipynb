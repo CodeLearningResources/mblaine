{
 "cells": [
  {
   "cell_type": "markdown",
   "metadata": {},
   "source": [
    "# JSON Exercise"
   ]
  },
  {
   "cell_type": "markdown",
   "metadata": {},
   "source": [
    "## From the data.gov website, download the JSON file with traffic violations in Montgomery County, Maryland (Links to an external site.)Links to an external site.. If you need more descriptive information regarding the features in this dataset, check out the \"Columns in this Dataset\" section of the Montgomery County Open Data Portal for this data: https://data.montgomerycountymd.gov/Public-Safety/Traffic-Violations/4mse-ku6q (Links to an external site.)Links to an external site.\n",
    "\n",
    "## Extract the data for the following features and make it into a dataframe (HINT: The final data that you need to extract is located in a list. You need to get the data by its index position number in the list. Next to each feature is its index position number for your guidance.):"
   ]
  },
  {
   "cell_type": "markdown",
   "metadata": {},
   "source": [
    "### Date of Stop [9]\n",
    "### Time of Stop [10]\n",
    "### Agency [11]\n",
    "### Subagency [12]\n",
    "### Description [13]\n",
    "### Location [14]\n",
    "### Latitude [15]\n",
    "### Longitude [16]\n",
    "### Vehicle Type [28]\n",
    "### Vehicle Year [29]\n",
    "### Vehicle Make [30]\n",
    "### Vehicle Model [31]\n",
    "### Vehicle Color [32]\n",
    "### Violation Type [33]\n",
    "### Race [37]\n",
    "### Gender [38]\n",
    "### Driver's State [40]\n",
    "### Driver's License State [41]\n",
    "### Arrest Type [42]"
   ]
  },
  {
   "cell_type": "code",
   "execution_count": 1,
   "metadata": {},
   "outputs": [],
   "source": [
    "import pandas as pd\n",
    "import json"
   ]
  },
  {
   "cell_type": "code",
   "execution_count": 2,
   "metadata": {},
   "outputs": [],
   "source": [
    "filepath = \"datasets/MoCoViolations_2018.json\""
   ]
  },
  {
   "cell_type": "code",
   "execution_count": 3,
   "metadata": {},
   "outputs": [],
   "source": [
    "# Defines empty lists for each value we need\n",
    "ds = []\n",
    "ts = []\n",
    "agency = []\n",
    "sAgency = []\n",
    "desc = []\n",
    "loc = []\n",
    "lat = []\n",
    "lon = []\n",
    "vType = []\n",
    "vYear = []\n",
    "vMake = []\n",
    "vModel = []\n",
    "vColor = []\n",
    "violType = []\n",
    "race = []\n",
    "gender = []\n",
    "drState = []\n",
    "drLicState = []\n",
    "arrType = []"
   ]
  },
  {
   "cell_type": "code",
   "execution_count": 4,
   "metadata": {},
   "outputs": [],
   "source": [
    "# Data is individual JSON objects not separated by commas\n",
    "# Will load data as JSON and put in bigger list to be able to extract values from keys\n",
    "\n",
    "data = []\n",
    "\n",
    "with open(filepath) as file:\n",
    "    for line in file:\n",
    "        data.append(json.loads(line))"
   ]
  },
  {
   "cell_type": "code",
   "execution_count": 5,
   "metadata": {},
   "outputs": [
    {
     "data": {
      "text/plain": [
       "list"
      ]
     },
     "execution_count": 5,
     "metadata": {},
     "output_type": "execute_result"
    }
   ],
   "source": [
    "# Verify that this is a list type\n",
    "type(data)"
   ]
  },
  {
   "cell_type": "code",
   "execution_count": 6,
   "metadata": {},
   "outputs": [
    {
     "data": {
      "text/plain": [
       "1"
      ]
     },
     "execution_count": 6,
     "metadata": {},
     "output_type": "execute_result"
    }
   ],
   "source": [
    "# Check number of items in data list\n",
    "# This is the total number of violations in dataset\n",
    "len(data)"
   ]
  },
  {
   "cell_type": "code",
   "execution_count": null,
   "metadata": {},
   "outputs": [],
   "source": [
    "data[0]"
   ]
  },
  {
   "cell_type": "code",
   "execution_count": 8,
   "metadata": {},
   "outputs": [
    {
     "data": {
      "text/plain": [
       "dict"
      ]
     },
     "execution_count": 8,
     "metadata": {},
     "output_type": "execute_result"
    }
   ],
   "source": [
    "# What type of structure\n",
    "type(data[0]) "
   ]
  },
  {
   "cell_type": "code",
   "execution_count": 9,
   "metadata": {},
   "outputs": [
    {
     "data": {
      "text/plain": [
       "dict_keys(['meta', 'data'])"
      ]
     },
     "execution_count": 9,
     "metadata": {},
     "output_type": "execute_result"
    }
   ],
   "source": [
    "data[0].keys()\n"
   ]
  },
  {
   "cell_type": "code",
   "execution_count": 10,
   "metadata": {},
   "outputs": [
    {
     "data": {
      "text/plain": [
       "2"
      ]
     },
     "execution_count": 10,
     "metadata": {},
     "output_type": "execute_result"
    }
   ],
   "source": [
    "len(data[0].keys())"
   ]
  },
  {
   "cell_type": "code",
   "execution_count": 14,
   "metadata": {},
   "outputs": [
    {
     "name": "stdout",
     "output_type": "stream",
     "text": [
      "218273\n"
     ]
    }
   ],
   "source": [
    "# data[9] = Date of Stop\n",
    "violations = data[0]['data']\n",
    "print(len(violations))\n",
    "for violation in violations:\n",
    "    ds.append(violation[9])\n",
    "    ts.append(violation[10])\n",
    "    agency.append(violation[11])\n",
    "    sAgency.append(violation[12])\n",
    "    desc.append(violation[13])\n",
    "    loc.append(violation[14])\n",
    "    lat.append(violation[15])\n",
    "    lon.append(violation[16])\n",
    "    vType.append(violation[28])\n",
    "    vYear.append(violation[29])\n",
    "    vMake.append(violation[30])\n",
    "    vModel.append(violation[31])\n",
    "    vColor.append(violation[32])\n",
    "    violType.append(violation[33])\n",
    "    race.append(violation[37])\n",
    "    gender.append(violation[38])\n",
    "    drState.append(violation[40])\n",
    "    drLicState.append(violation[41])\n",
    "    arrType.append(violation[42])\n"
   ]
  },
  {
   "cell_type": "code",
   "execution_count": 15,
   "metadata": {},
   "outputs": [
    {
     "name": "stdout",
     "output_type": "stream",
     "text": [
      "218273\n"
     ]
    }
   ],
   "source": [
    "print(len(data[0]['data']))\n",
    "#len(ds)\n",
    "#ds"
   ]
  },
  {
   "cell_type": "code",
   "execution_count": 16,
   "metadata": {},
   "outputs": [
    {
     "data": {
      "text/plain": [
       "list"
      ]
     },
     "execution_count": 16,
     "metadata": {},
     "output_type": "execute_result"
    }
   ],
   "source": [
    "type(data[0]['data']) # get type of data returned"
   ]
  },
  {
   "cell_type": "code",
   "execution_count": null,
   "metadata": {},
   "outputs": [],
   "source": [
    "#df = pd.DataFrame([ds], [ts], [agency], [sAgency])\n"
   ]
  },
  {
   "cell_type": "code",
   "execution_count": null,
   "metadata": {},
   "outputs": [],
   "source": []
  }
 ],
 "metadata": {
  "kernelspec": {
   "display_name": "Python 3",
   "language": "python",
   "name": "python3"
  },
  "language_info": {
   "codemirror_mode": {
    "name": "ipython",
    "version": 3
   },
   "file_extension": ".py",
   "mimetype": "text/x-python",
   "name": "python",
   "nbconvert_exporter": "python",
   "pygments_lexer": "ipython3",
   "version": "3.7.3"
  }
 },
 "nbformat": 4,
 "nbformat_minor": 2
}
