{
 "cells": [
  {
   "cell_type": "markdown",
   "metadata": {},
   "source": [
    "# Web Data Scraping Exercise 1: Maryland Counties"
   ]
  },
  {
   "cell_type": "code",
   "execution_count": null,
   "metadata": {},
   "outputs": [],
   "source": [
    "# Import the library used to query a website\n",
    "import urllib.request as urllib2"
   ]
  },
  {
   "cell_type": "code",
   "execution_count": null,
   "metadata": {},
   "outputs": [],
   "source": [
    "# Specify the url\n",
    "wiki = \"https://en.wikipedia.org/wiki/List_of_counties_in_Maryland#List_of_counties\""
   ]
  },
  {
   "cell_type": "code",
   "execution_count": null,
   "metadata": {},
   "outputs": [],
   "source": [
    "# Query the website and return the html to the variable 'page'\n",
    "page = urllib2.urlopen(wiki)"
   ]
  },
  {
   "cell_type": "code",
   "execution_count": null,
   "metadata": {},
   "outputs": [],
   "source": [
    "print(page)"
   ]
  },
  {
   "cell_type": "code",
   "execution_count": null,
   "metadata": {},
   "outputs": [],
   "source": [
    "# Import the Beautiful soup functions to parse the data returned from the website\n",
    "from bs4 import BeautifulSoup"
   ]
  },
  {
   "cell_type": "code",
   "execution_count": null,
   "metadata": {},
   "outputs": [],
   "source": [
    "#Parse the html in the 'page' variable, and store it in Beautiful Soup format\n",
    "soup = BeautifulSoup(page, \"lxml\")"
   ]
  },
  {
   "cell_type": "code",
   "execution_count": null,
   "metadata": {},
   "outputs": [],
   "source": [
    "# look at contents of page - wall of text\n",
    "soup"
   ]
  },
  {
   "cell_type": "code",
   "execution_count": null,
   "metadata": {},
   "outputs": [],
   "source": [
    "# Format page contents to include indentation\n",
    "print (soup.prettify())"
   ]
  },
  {
   "cell_type": "code",
   "execution_count": null,
   "metadata": {},
   "outputs": [],
   "source": [
    "# soup.<tag>: Return content between opening and closing tag including tag.\n",
    "soup.title"
   ]
  },
  {
   "cell_type": "code",
   "execution_count": null,
   "metadata": {},
   "outputs": [],
   "source": [
    "# soup.<tag>.string: Return string within given tag\n",
    "print(soup.title.string)"
   ]
  },
  {
   "cell_type": "code",
   "execution_count": null,
   "metadata": {},
   "outputs": [],
   "source": [
    "# Shows the first <a> tag on the page\n",
    "soup.a"
   ]
  },
  {
   "cell_type": "code",
   "execution_count": null,
   "metadata": {},
   "outputs": [],
   "source": [
    "#finds all <a> tags on the page\n",
    "soup.find_all(\"a\")"
   ]
  },
  {
   "cell_type": "code",
   "execution_count": null,
   "metadata": {},
   "outputs": [],
   "source": [
    "# Show hyperlink reference for all <a> tags\n",
    "all_links=soup.find_all(\"a\")\n",
    "for link in all_links:\n",
    "    print (link.get(\"href\"))"
   ]
  },
  {
   "cell_type": "code",
   "execution_count": null,
   "metadata": {},
   "outputs": [],
   "source": [
    "# Find all the <table> tags\n",
    "all_tables=soup.find_all('table')\n",
    "all_tables"
   ]
  },
  {
   "cell_type": "code",
   "execution_count": null,
   "metadata": {},
   "outputs": [],
   "source": [
    "#get the <table> tag that contains the data we want to scrap\n",
    "right_table=soup.find('table', class_='wikitable sortable')\n",
    "right_table"
   ]
  },
  {
   "cell_type": "code",
   "execution_count": null,
   "metadata": {},
   "outputs": [],
   "source": [
    "# The final data must include these coulmns:\n",
    "# County Name : column 0 = County\n",
    "# FIPS Code : column 1 = FIPS Code\n",
    "# County Seat : column 2 = County Seat\n",
    "# Established (year) : column 3 = Established\n",
    "# Origin : column 4 = Origin\n",
    "# Etymology : column 5 = Etymology\n",
    "# Population : column 8 = Population\n",
    "# Area : column 9 = Area\n",
    "\n",
    "# Generate lists\n",
    "co_name=[]\n",
    "fips=[]\n",
    "seat=[]\n",
    "est=[]\n",
    "origin=[]\n",
    "ety=[]\n",
    "pop=[]\n",
    "area=[]"
   ]
  },
  {
   "cell_type": "code",
   "execution_count": null,
   "metadata": {},
   "outputs": [],
   "source": [
    "# Use lists for row data for each column\n",
    "for row in right_table.findAll(\"tr\"):\n",
    "    th_tags = row.findAll('th')\n",
    "    if len(th_tags)==1:\n",
    "        co_name.append(th_tags[0].find(text=True))\n",
    "\n",
    "    td_tags = row.findAll('td')\n",
    "    if len(td_tags)==10:\n",
    "#        co_name.append(td_tags[0].find(text=True)) #gets info in county name column and adds it to list name\n",
    "        fips.append(td_tags[0].find(text=True)) # gets info from FIPS Code column and adds it to list fips\n",
    "        seat.append(td_tags[1].find(text=True)) # gets info from County Seat column; add it to list seat\n",
    "        est.append(td_tags[2].find(text=True)) # gets info from Established column and adds it to list est\n",
    "        origin.append(td_tags[3].find(text=True)) # gets info from Origin since column and adds it to list origin\n",
    "        ety.append(td_tags[4].find(text=True)) # gets info from Etymology column and adds it to list ety\n",
    "        pop.append(td_tags[7].find(text=True)) # gets info from Population column and adds it to list pop\n",
    "        area.append(td_tags[8].find(text=True)) # gets info from Area column and adds it to list area\n",
    "        print(co_name[0])\n",
    "    else:\n",
    "        print(\"Something\")"
   ]
  },
  {
   "cell_type": "code",
   "execution_count": null,
   "metadata": {},
   "outputs": [],
   "source": [
    "# Show data in list county name, just to check\n",
    "co_name"
   ]
  },
  {
   "cell_type": "code",
   "execution_count": null,
   "metadata": {},
   "outputs": [],
   "source": [
    "# Import pandas to convert list to data frame\n",
    "import pandas as pd\n",
    "\n",
    "df = pd.DataFrame(co_name, columns=['County']) # turn list name into dataframe first\n",
    "\n",
    "# Add other lists as new columns\n",
    "df['FIPS Code'] = fips\n",
    "df['County Seat'] = seat\n",
    "df['Established'] = est\n",
    "df['Origin'] = origin\n",
    "df['Etymology'] = ety\n",
    "df['Population'] = pop\n",
    "df['Area'] = area\n",
    "\n",
    "df.head()"
   ]
  },
  {
   "cell_type": "code",
   "execution_count": null,
   "metadata": {},
   "outputs": [],
   "source": [
    "# Save to csv file\n",
    "df.to_csv(\"MarylandCounties.csv\")"
   ]
  }
 ],
 "metadata": {
  "kernelspec": {
   "display_name": "Python 3",
   "language": "python",
   "name": "python3"
  },
  "language_info": {
   "codemirror_mode": {
    "name": "ipython",
    "version": 3
   },
   "file_extension": ".py",
   "mimetype": "text/x-python",
   "name": "python",
   "nbconvert_exporter": "python",
   "pygments_lexer": "ipython3",
   "version": "3.7.3"
  }
 },
 "nbformat": 4,
 "nbformat_minor": 2
}
