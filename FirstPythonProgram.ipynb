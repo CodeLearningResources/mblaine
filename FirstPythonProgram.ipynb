{
 "cells": [
  {
   "cell_type": "markdown",
   "metadata": {},
   "source": [
    "# First Python Program\n",
    "## First day - 6/3/19"
   ]
  },
  {
   "cell_type": "code",
   "execution_count": 3,
   "metadata": {},
   "outputs": [
    {
     "name": "stdout",
     "output_type": "stream",
     "text": [
      "Enter your name: Peggy\n",
      "Hello, Peggy!\n"
     ]
    }
   ],
   "source": [
    "# our first program\n",
    "name = input(\"Enter your name: \")\n",
    "response = \"Hello, \" + name + \"!\"\n",
    "print(response)"
   ]
  },
  {
   "cell_type": "code",
   "execution_count": 4,
   "metadata": {},
   "outputs": [
    {
     "name": "stdout",
     "output_type": "stream",
     "text": [
      "Enter something: 3.57\n",
      "Enter something: 3\n",
      "Enter something: This is a text string\n"
     ]
    }
   ],
   "source": [
    "# To convert a input to a float (floating-point decimal number):\n",
    "response = float(input(\"Enter something: \"))\n",
    "# To convert input to an integer (whole number)\n",
    "response = int(input(\"Enter something: \"))\n",
    "# To use input as a string\n",
    "response = input(\"Enter something: \")"
   ]
  },
  {
   "cell_type": "code",
   "execution_count": null,
   "metadata": {},
   "outputs": [],
   "source": []
  }
 ],
 "metadata": {
  "kernelspec": {
   "display_name": "Python 3",
   "language": "python",
   "name": "python3"
  },
  "language_info": {
   "codemirror_mode": {
    "name": "ipython",
    "version": 3
   },
   "file_extension": ".py",
   "mimetype": "text/x-python",
   "name": "python",
   "nbconvert_exporter": "python",
   "pygments_lexer": "ipython3",
   "version": "3.7.3"
  }
 },
 "nbformat": 4,
 "nbformat_minor": 2
}
