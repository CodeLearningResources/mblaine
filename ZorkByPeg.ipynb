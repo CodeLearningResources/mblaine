{
 "cells": [
  {
   "cell_type": "markdown",
   "metadata": {},
   "source": [
    "# Zork by Peg Blaine"
   ]
  },
  {
   "cell_type": "code",
   "execution_count": 19,
   "metadata": {},
   "outputs": [
    {
     "name": "stdout",
     "output_type": "stream",
     "text": [
      "Printing castle rooms key list: \n",
      "\n",
      "['0', '1', '2', '3', '4', '5']\n",
      "Printing castle rooms: \n",
      "\n",
      "{'0': 'dungeon', '1': 'foyer', '2': 'front room', '3': 'library', '4': 'kitchen', '5': 'dining room'}\n",
      "Printing castle: \n",
      "\n"
     ]
    },
    {
     "data": {
      "text/plain": [
       "{'0': 'dungeon',\n",
       " '1': 'foyer',\n",
       " '2': 'front room',\n",
       " '3': 'library',\n",
       " '4': 'kitchen',\n",
       " '5': 'dining room'}"
      ]
     },
     "execution_count": 19,
     "metadata": {},
     "output_type": "execute_result"
    }
   ],
   "source": [
    "# Create a separate block for each room\n",
    "# The whole castle\n",
    "answer = \"\"\n",
    "inCastle = True\n",
    "runFromCastle = False\n",
    "castle = {'0':'dungeon', '1': 'foyer', '2': 'front room', '3': 'library', '4': 'kitchen', '5': 'dining room'}\n",
    "roomsList = list(castle.keys())\n",
    "currentRoom = roomsList[2]\n",
    "print(\"Printing castle rooms key list: \\n\")\n",
    "print(roomsList)\n",
    "print(\"Printing castle rooms: \\n\")\n",
    "print(castle)\n",
    "print(\"Printing castle: \\n\")\n",
    "castle"
   ]
  },
  {
   "cell_type": "code",
   "execution_count": 2,
   "metadata": {},
   "outputs": [],
   "source": [
    "# Room 1\n",
    "inRoom1 = False\n",
    "room1Doors = {'north': '2'}\n",
    "room1Directions = list(room1Doors.keys())"
   ]
  },
  {
   "cell_type": "code",
   "execution_count": 3,
   "metadata": {},
   "outputs": [],
   "source": [
    "# Room 2\n",
    "inRoom2 = True\n",
    "room2Doors = {'south':'1', 'west': '3', 'east': '4'}\n",
    "room2Directions = list(room2Doors.keys())"
   ]
  },
  {
   "cell_type": "code",
   "execution_count": 4,
   "metadata": {},
   "outputs": [],
   "source": [
    "# Room 3\n",
    "inRoom3 = False\n",
    "room3Doors = {'east':'2', 'north': '5'}\n",
    "room3Directions = list(room3Doors.keys())"
   ]
  },
  {
   "cell_type": "code",
   "execution_count": null,
   "metadata": {},
   "outputs": [],
   "source": [
    "# Room 4"
   ]
  },
  {
   "cell_type": "code",
   "execution_count": null,
   "metadata": {},
   "outputs": [],
   "source": [
    "# Room 5"
   ]
  },
  {
   "cell_type": "code",
   "execution_count": null,
   "metadata": {},
   "outputs": [],
   "source": [
    "# Room 6"
   ]
  },
  {
   "cell_type": "code",
   "execution_count": null,
   "metadata": {},
   "outputs": [],
   "source": [
    "# Room 7"
   ]
  },
  {
   "cell_type": "code",
   "execution_count": null,
   "metadata": {},
   "outputs": [],
   "source": [
    "# Room 8"
   ]
  },
  {
   "cell_type": "code",
   "execution_count": null,
   "metadata": {},
   "outputs": [
    {
     "name": "stdout",
     "output_type": "stream",
     "text": [
      "You are standing in the 2 of an old castle.\n",
      "You can exit to the .Press 'q' to quit\n"
     ]
    }
   ],
   "source": [
    "# While in the castle\n",
    "while inCastle:\n",
    "    print(\"You are standing in the {0} of an old castle.\".format(currentRoom))\n",
    "#    print(\"You are standing in the {0} of an old castle.\".format(roomsList[currentRoom])\n",
    "    print(\"You can exit to the .Press 'q' to quit\")\n",
    "    answer = input(\"Enter a direction to move or press 'q' to quit: \")\n",
    "    if answer.lower() == 'q':\n",
    "        runFromCastle = True\n",
    "        print(\"Running from castle\")\n",
    "        inCastle = False\n",
    "        break\n",
    "    else:\n",
    "        print(\"Still playing Zork\")"
   ]
  },
  {
   "cell_type": "code",
   "execution_count": null,
   "metadata": {},
   "outputs": [],
   "source": []
  }
 ],
 "metadata": {
  "kernelspec": {
   "display_name": "Python 3",
   "language": "python",
   "name": "python3"
  },
  "language_info": {
   "codemirror_mode": {
    "name": "ipython",
    "version": 3
   },
   "file_extension": ".py",
   "mimetype": "text/x-python",
   "name": "python",
   "nbconvert_exporter": "python",
   "pygments_lexer": "ipython3",
   "version": "3.7.3"
  }
 },
 "nbformat": 4,
 "nbformat_minor": 2
}
