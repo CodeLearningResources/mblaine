{
 "cells": [
  {
   "cell_type": "markdown",
   "metadata": {},
   "source": [
    "# Zork by Peg Blaine"
   ]
  },
  {
   "cell_type": "code",
   "execution_count": 4,
   "metadata": {},
   "outputs": [],
   "source": [
    "# Create a separate block for each room\n",
    "# The whole castle\n",
    "inCastle = True\n",
    "runFromCastle = False\n",
    "castle = {'0':'dungeon', '1': 'foyer', '2': 'front room', '3': 'library', '4': 'kitchen', '5': 'dining room'}\n",
    "roomsList = list(castle.keys())\n",
    "currentRoom = roomsList[2]"
   ]
  },
  {
   "cell_type": "code",
   "execution_count": 6,
   "metadata": {},
   "outputs": [],
   "source": [
    "# Room 1\n",
    "inRoom1 = False\n",
    "room1 = {'north': '2'}\n",
    "room1Directions = list(room1.keys())"
   ]
  },
  {
   "cell_type": "code",
   "execution_count": 7,
   "metadata": {},
   "outputs": [],
   "source": [
    "# Room 2\n",
    "inRoom2 = True\n",
    "room2 = {'south':'1', 'west': '3', 'east': '4'}\n",
    "room2Directions = list(room2.keys())"
   ]
  },
  {
   "cell_type": "code",
   "execution_count": 8,
   "metadata": {},
   "outputs": [],
   "source": [
    "# Room 3\n",
    "inRoom3 = False\n",
    "room3 = {'east':'2', 'north': '5'}\n",
    "room3Directions = list(room3.keys())"
   ]
  },
  {
   "cell_type": "code",
   "execution_count": null,
   "metadata": {},
   "outputs": [],
   "source": [
    "# Room 4"
   ]
  },
  {
   "cell_type": "code",
   "execution_count": null,
   "metadata": {},
   "outputs": [],
   "source": [
    "# Room 5"
   ]
  },
  {
   "cell_type": "code",
   "execution_count": null,
   "metadata": {},
   "outputs": [],
   "source": [
    "# Room 6"
   ]
  },
  {
   "cell_type": "code",
   "execution_count": null,
   "metadata": {},
   "outputs": [],
   "source": [
    "# Room 7"
   ]
  },
  {
   "cell_type": "code",
   "execution_count": null,
   "metadata": {},
   "outputs": [],
   "source": [
    "# Room 8"
   ]
  },
  {
   "cell_type": "code",
   "execution_count": null,
   "metadata": {},
   "outputs": [
    {
     "name": "stdout",
     "output_type": "stream",
     "text": [
      "You are standing in the 2 of an old castle.\n",
      "You can exit to the .Press 'q' to quit\n"
     ]
    }
   ],
   "source": [
    "# While in the castle\n",
    "while inCastle:\n",
    "    print(\"You are standing in the {0} of an old castle.\".format(currentRoom))\n",
    "    print(\"You can exit to the .Press 'q' to quit\")\n",
    "    answer = input(\"Enter a direction to move or press 'q' to quit: \")\n",
    "    if answer.lower() == 'q':\n",
    "        runFromCastle = True\n",
    "        print(\"Running from castle\")\n",
    "        inCastle = False\n",
    "        break\n",
    "    else:\n",
    "        print(\"Still playing Zork\")"
   ]
  },
  {
   "cell_type": "code",
   "execution_count": null,
   "metadata": {},
   "outputs": [],
   "source": []
  }
 ],
 "metadata": {
  "kernelspec": {
   "display_name": "Python 3",
   "language": "python",
   "name": "python3"
  },
  "language_info": {
   "codemirror_mode": {
    "name": "ipython",
    "version": 3
   },
   "file_extension": ".py",
   "mimetype": "text/x-python",
   "name": "python",
   "nbconvert_exporter": "python",
   "pygments_lexer": "ipython3",
   "version": "3.7.3"
  }
 },
 "nbformat": 4,
 "nbformat_minor": 2
}
