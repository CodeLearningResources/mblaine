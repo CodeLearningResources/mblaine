{
 "cells": [
  {
   "cell_type": "markdown",
   "metadata": {},
   "source": [
    "# 0. Take in a text file, save as a string"
   ]
  },
  {
   "cell_type": "code",
   "execution_count": null,
   "metadata": {},
   "outputs": [],
   "source": [
    "data = \"\"\n",
    "\n",
    "with open('hamlet.txt', 'r') as f:\n",
    "    data = f.read()"
   ]
  },
  {
   "cell_type": "markdown",
   "metadata": {},
   "source": [
    "# 1. Inspect the string"
   ]
  },
  {
   "cell_type": "code",
   "execution_count": null,
   "metadata": {},
   "outputs": [],
   "source": [
    "data"
   ]
  },
  {
   "cell_type": "markdown",
   "metadata": {},
   "source": [
    "# 2. Cut the string up into individual words"
   ]
  },
  {
   "cell_type": "code",
   "execution_count": null,
   "metadata": {},
   "outputs": [],
   "source": [
    "# split up a string (by default, by spaces)\n",
    "list_1 = data.split() # individual words\n",
    "print(list_1)"
   ]
  },
  {
   "cell_type": "code",
   "execution_count": null,
   "metadata": {},
   "outputs": [],
   "source": [
    "# just look at the 1st 10 items in a list\n",
    "list_1[0:10]\n",
    "print(list_1)"
   ]
  },
  {
   "cell_type": "markdown",
   "metadata": {},
   "source": [
    "# 3. Realize we don't want punctuation mixed up with words"
   ]
  },
  {
   "cell_type": "markdown",
   "metadata": {},
   "source": [
    "# 4. Remove punctuation from original data before splitting"
   ]
  },
  {
   "cell_type": "code",
   "execution_count": null,
   "metadata": {},
   "outputs": [],
   "source": [
    "# make copy of data\n",
    "data_1 = \"\"\n",
    "punctuation = '.,?\"'\n",
    "for letter in data:\n",
    "    if letter not in punctuation:\n",
    "        data_1 += letter\n",
    "\n",
    "print(data_1) # inspect data_1"
   ]
  },
  {
   "cell_type": "markdown",
   "metadata": {},
   "source": [
    "# 5. Realize we want to compare words regardless of capitalization"
   ]
  },
  {
   "cell_type": "markdown",
   "metadata": {},
   "source": [
    "# 6. Convert the story to all lowercase letters"
   ]
  },
  {
   "cell_type": "code",
   "execution_count": null,
   "metadata": {},
   "outputs": [],
   "source": [
    "# make our story entirely lowercase\n",
    "# data = str.lower(data)\n",
    "# print(data)\n",
    "data_1 = str.lower(data_1)\n",
    "print(data_1)"
   ]
  },
  {
   "cell_type": "markdown",
   "metadata": {},
   "source": [
    "# 7. Make a dictionary of unique words where word frequency is the value"
   ]
  },
  {
   "cell_type": "code",
   "execution_count": null,
   "metadata": {},
   "outputs": [],
   "source": [
    "# First, let's determine the keys by converting\n",
    "# our list of words into a unique set\n",
    "list_2 = data_1.split()\n",
    "set_1 = set(list_2)\n",
    "print(set_1)"
   ]
  },
  {
   "cell_type": "code",
   "execution_count": null,
   "metadata": {},
   "outputs": [],
   "source": [
    "# Secondly, let's create an empty dictionary where all the values are 0\n",
    "dict_1 = dict.fromkeys(set_1, 0)\n",
    "print(dict_1)"
   ]
  },
  {
   "cell_type": "code",
   "execution_count": null,
   "metadata": {},
   "outputs": [],
   "source": [
    "# Thirdly and lastly, we must update the count values for each word\n",
    "# by looping through our story and counting up each word\n",
    "\n",
    "for word in list_2:\n",
    "    if word in dict_1:\n",
    "        dict_1[word] += 1\n",
    "        \n",
    "print(dict_1)"
   ]
  },
  {
   "cell_type": "code",
   "execution_count": null,
   "metadata": {},
   "outputs": [],
   "source": [
    "listing = [(k,v) for k,v in dict_1.items()]\n",
    "sorted(listing, reverse=False)\n",
    "#from operator import itemgetter\n",
    "#newlist = sorted((dict_1.items()), key=itemgetter('name')) \n",
    "#newlist = sorted(l, key=itemgetter('name'), reverse=True)"
   ]
  },
  {
   "cell_type": "code",
   "execution_count": null,
   "metadata": {},
   "outputs": [],
   "source": [
    "def getKey(item):\n",
    "    return item[1]\n",
    "sorted(listing, key=getKey, reverse=True)"
   ]
  },
  {
   "cell_type": "code",
   "execution_count": null,
   "metadata": {},
   "outputs": [],
   "source": []
  }
 ],
 "metadata": {
  "kernelspec": {
   "display_name": "Python 3",
   "language": "python",
   "name": "python3"
  },
  "language_info": {
   "codemirror_mode": {
    "name": "ipython",
    "version": 3
   },
   "file_extension": ".py",
   "mimetype": "text/x-python",
   "name": "python",
   "nbconvert_exporter": "python",
   "pygments_lexer": "ipython3",
   "version": "3.7.3"
  }
 },
 "nbformat": 4,
 "nbformat_minor": 2
}
