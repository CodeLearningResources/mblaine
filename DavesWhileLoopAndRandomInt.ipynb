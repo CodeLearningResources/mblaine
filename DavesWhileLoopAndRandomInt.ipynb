{
 "cells": [
  {
   "cell_type": "markdown",
   "metadata": {},
   "source": [
    "# Using a while loop with random num gen"
   ]
  },
  {
   "cell_type": "code",
   "execution_count": 1,
   "metadata": {},
   "outputs": [],
   "source": [
    "# Creating an endless while loop"
   ]
  },
  {
   "cell_type": "code",
   "execution_count": 3,
   "metadata": {},
   "outputs": [
    {
     "name": "stdout",
     "output_type": "stream",
     "text": [
      "Enter a movie you like or press 'q' to quit: abc\n",
      "You entered: abc\n",
      "Enter a movie you like or press 'q' to quit: dfe\n",
      "You entered: dfe\n",
      "Enter a movie you like or press 'q' to quit: jjj\n",
      "You entered: jjj\n",
      "Enter a movie you like or press 'q' to quit: q\n"
     ]
    }
   ],
   "source": [
    "while True:\n",
    "        answer = input(\"Enter a movie you like or press 'q' to quit: \")\n",
    "        if answer.lower() == 'q':\n",
    "            break\n",
    "        else:\n",
    "            print(\"You entered: \" + answer)"
   ]
  },
  {
   "cell_type": "code",
   "execution_count": 4,
   "metadata": {},
   "outputs": [],
   "source": [
    "# Using random numbers\n",
    "import random"
   ]
  },
  {
   "cell_type": "code",
   "execution_count": 9,
   "metadata": {},
   "outputs": [
    {
     "name": "stdout",
     "output_type": "stream",
     "text": [
      "4\n"
     ]
    }
   ],
   "source": [
    "# Select a number between upper and lower bound (inclusive)\n",
    "# Run it many times and see if you return the lower/upper\n",
    "lower = 0\n",
    "upper = 10\n",
    "rnd = random.randint(lower, upper)\n",
    "print(rnd)"
   ]
  },
  {
   "cell_type": "code",
   "execution_count": null,
   "metadata": {},
   "outputs": [],
   "source": []
  }
 ],
 "metadata": {
  "kernelspec": {
   "display_name": "Python 3",
   "language": "python",
   "name": "python3"
  },
  "language_info": {
   "codemirror_mode": {
    "name": "ipython",
    "version": 3
   },
   "file_extension": ".py",
   "mimetype": "text/x-python",
   "name": "python",
   "nbconvert_exporter": "python",
   "pygments_lexer": "ipython3",
   "version": "3.7.3"
  }
 },
 "nbformat": 4,
 "nbformat_minor": 2
}
