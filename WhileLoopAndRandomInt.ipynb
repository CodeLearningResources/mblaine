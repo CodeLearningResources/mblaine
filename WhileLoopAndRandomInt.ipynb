{
 "cells": [
  {
   "cell_type": "markdown",
   "metadata": {},
   "source": [
    "# Using a while loop with random num gen"
   ]
  },
  {
   "cell_type": "code",
   "execution_count": 1,
   "metadata": {},
   "outputs": [],
   "source": [
    "# Creating an endless while loop"
   ]
  },
  {
   "cell_type": "code",
   "execution_count": 2,
   "metadata": {},
   "outputs": [
    {
     "name": "stdout",
     "output_type": "stream",
     "text": [
      "Enter a movie you like or press 'q' to quit: q\n"
     ]
    }
   ],
   "source": [
    "while True:\n",
    "        answer = input(\"Enter a movie you like or press 'q' to quit: \")\n",
    "        if answer.lower() == 'q':\n",
    "            break\n",
    "        else:\n",
    "            print(\"You entered: \" + answer)"
   ]
  },
  {
   "cell_type": "code",
   "execution_count": 3,
   "metadata": {},
   "outputs": [],
   "source": [
    "# Using random numbers\n",
    "import random"
   ]
  },
  {
   "cell_type": "code",
   "execution_count": 4,
   "metadata": {},
   "outputs": [
    {
     "name": "stdout",
     "output_type": "stream",
     "text": [
      "5\n"
     ]
    }
   ],
   "source": [
    "# Select a number between upper and lower bound (inclusive)\n",
    "# Run it many times and see if you return the lower/upper\n",
    "lower = 0\n",
    "upper = 10\n",
    "rnd = random.randint(lower, upper)\n",
    "print(rnd)"
   ]
  },
  {
   "cell_type": "code",
   "execution_count": 44,
   "metadata": {},
   "outputs": [
    {
     "name": "stdout",
     "output_type": "stream",
     "text": [
      "Quess a number between: 0 and 10\n",
      "1\n",
      "False\n",
      "Try again\n",
      "Quess a number between: 0 and 10\n",
      "2\n",
      "False\n",
      "Try again\n",
      "Quess a number between: 0 and 10\n",
      "3\n",
      "False\n",
      "Try again\n"
     ]
    }
   ],
   "source": [
    "found = False\n",
    "for i in range(0, 3):\n",
    "    randomAnswer = int(input(\"Quess a number between: {0} and {1}\\n\".format(lower, upper)))\n",
    "    if randomAnswer == rnd:\n",
    "        print(\"You guessed correctly! Game over\")\n",
    "        found = True\n",
    "        print(found)\n",
    "        break\n",
    "    else:\n",
    "        print(found)\n",
    "        if bool(found):# == True:\n",
    "            print(\"Game over!\")\n",
    "        else:\n",
    "            print(\"Try again\")\n",
    "#        if not found:\n",
    "#            print(\"Try again\")\n",
    "#        else:\n",
    "#            print(\"Game over!\")\n",
    "#        break"
   ]
  },
  {
   "cell_type": "code",
   "execution_count": null,
   "metadata": {},
   "outputs": [],
   "source": []
  }
 ],
 "metadata": {
  "kernelspec": {
   "display_name": "Python 3",
   "language": "python",
   "name": "python3"
  },
  "language_info": {
   "codemirror_mode": {
    "name": "ipython",
    "version": 3
   },
   "file_extension": ".py",
   "mimetype": "text/x-python",
   "name": "python",
   "nbconvert_exporter": "python",
   "pygments_lexer": "ipython3",
   "version": "3.7.3"
  }
 },
 "nbformat": 4,
 "nbformat_minor": 2
}
